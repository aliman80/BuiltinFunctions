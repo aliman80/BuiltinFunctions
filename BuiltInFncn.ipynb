{
 "cells": [
  {
   "cell_type": "markdown",
   "metadata": {},
   "source": [
    "abs( 8) \n",
    "\n",
    "\tThe abs() method takes a single argument:num - number whose absolute value is to be returned. The number can be:\n",
    "\tinteger\n",
    "\tfloating number\n",
    "\tcomplex number\n",
    "    \n",
    "Python chr(9)\n",
    "\t\n",
    "    The chr() method returns a character (a string) from an integer (represents unicode code point of the character).\n",
    "\tThe chr() method takes a single parameter, an integer i.The valid range of the integer is from 0 through 1,114,111.\n",
    "    \n",
    "    \n",
    " all()\n",
    "\t \n",
    "    The all() function takes a container as an argument. This Built in Functions returns True if all values in a python \n",
    "    iterable have a Boolean value of True. \n",
    "\tAn empty value has a Boolean value of False.\n",
    "\t>>> all({'*','',''})\n",
    "\tFalse\n",
    "\t  \n",
    "    \n",
    " any()\n",
    " \n",
    "\tIt takes one argument and returns True if, even one value in the iterable has a Boolean value of True.\n",
    "\t>>> any((1,0,0))\n",
    "\tTrue\n",
    "\t>>> any((0,0,0))\n",
    "\tFalse \n",
    "    \n",
    "    \n",
    "  bool()\n",
    "  \n",
    "\tbool() converts a value to Boolean.\n",
    "\t>>> bool(0.5)\n",
    "\tTrue\n",
    "\t>>> bool('')\n",
    "\tFalse\n",
    "\t>>> bool(True)\n",
    "\tTrue\n",
    "    \n",
    "    \n",
    "    \n",
    "Reference:https://data-flair.training/blogs/python-built-in-functions/"
   ]
  }
 ],
 "metadata": {
  "kernelspec": {
   "display_name": "Python 3",
   "language": "python",
   "name": "python3"
  },
  "language_info": {
   "codemirror_mode": {
    "name": "ipython",
    "version": 3
   },
   "file_extension": ".py",
   "mimetype": "text/x-python",
   "name": "python",
   "nbconvert_exporter": "python",
   "pygments_lexer": "ipython3",
   "version": "3.7.3"
  }
 },
 "nbformat": 4,
 "nbformat_minor": 2
}
